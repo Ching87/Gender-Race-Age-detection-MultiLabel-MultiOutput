{
 "cells": [
  {
   "cell_type": "code",
   "execution_count": 18,
   "metadata": {
    "execution": {
     "iopub.execute_input": "2022-06-24T07:59:50.478275Z",
     "iopub.status.busy": "2022-06-24T07:59:50.477797Z",
     "iopub.status.idle": "2022-06-24T07:59:50.488769Z",
     "shell.execute_reply": "2022-06-24T07:59:50.487774Z",
     "shell.execute_reply.started": "2022-06-24T07:59:50.478237Z"
    }
   },
   "outputs": [],
   "source": [
    "import numpy as np\n",
    "import pandas as pd\n",
    "import matplotlib.pyplot as plt\n",
    "from sklearn.preprocessing import LabelEncoder\n",
    "from tensorflow.keras.preprocessing.image import ImageDataGenerator\n",
    "import tensorflow as tf\n",
    "from tensorflow import keras\n",
    "from tensorflow.keras.preprocessing.image import ImageDataGenerator, img_to_array, load_img\n",
    "from tensorflow.keras.models import Sequential\n",
    "from tensorflow.keras.layers import Dense,Conv2D,MaxPooling2D,BatchNormalization,Dropout,Flatten,Input\n",
    "from tensorflow.keras import optimizers\n",
    "from keras import Model\n",
    "from tensorflow.keras import initializers\n",
    "import warnings\n",
    "warnings.filterwarnings('ignore')\n",
    "from sklearn.metrics import accuracy_score, precision_score, recall_score, f1_score\n",
    "from sklearn.metrics import multilabel_confusion_matrix\n",
    "from tensorflow.keras.backend import clear_session"
   ]
  },
  {
   "cell_type": "code",
   "execution_count": 19,
   "metadata": {
    "execution": {
     "iopub.execute_input": "2022-06-24T07:59:53.506982Z",
     "iopub.status.busy": "2022-06-24T07:59:53.506012Z",
     "iopub.status.idle": "2022-06-24T07:59:53.666871Z",
     "shell.execute_reply": "2022-06-24T07:59:53.665876Z",
     "shell.execute_reply.started": "2022-06-24T07:59:53.506931Z"
    }
   },
   "outputs": [],
   "source": [
    "df = pd.read_csv('../input/dataset/train.csv')\n",
    "df"
   ]
  },
  {
   "cell_type": "code",
   "execution_count": null,
   "metadata": {},
   "outputs": [],
   "source": [
    "for i in df.columns[1:]:\n",
    "    print(df[i].value_counts())"
   ]
  },
  {
   "cell_type": "code",
   "execution_count": 20,
   "metadata": {
    "execution": {
     "iopub.execute_input": "2022-06-24T07:59:57.291580Z",
     "iopub.status.busy": "2022-06-24T07:59:57.291148Z",
     "iopub.status.idle": "2022-06-24T07:59:57.408353Z",
     "shell.execute_reply": "2022-06-24T07:59:57.407115Z",
     "shell.execute_reply.started": "2022-06-24T07:59:57.291537Z"
    }
   },
   "outputs": [],
   "source": [
    "le_age = LabelEncoder()\n",
    "le_race = LabelEncoder()\n",
    "ages = le_age.fit_transform(df['age'])\n",
    "races= le_race.fit_transform(df['race'])\n",
    "df=pd.get_dummies(df, columns=['gender'], drop_first=True)\n",
    "\n",
    "pair_age={idx:age for idx, age in enumerate(le_age.classes_)}\n",
    "pair_race={idx:race for idx, race in enumerate(le_race.classes_)}\n",
    "df['race_enc'] = races\n",
    "df['age_enc'] = ages\n",
    "\n",
    "df=df.sample(frac=1).reset_index()\n",
    "pair_age, pair_race"
   ]
  },
  {
   "cell_type": "code",
   "execution_count": 21,
   "metadata": {
    "execution": {
     "iopub.execute_input": "2022-06-24T08:00:14.454053Z",
     "iopub.status.busy": "2022-06-24T08:00:14.452394Z",
     "iopub.status.idle": "2022-06-24T08:00:14.479596Z",
     "shell.execute_reply": "2022-06-24T08:00:14.478711Z",
     "shell.execute_reply.started": "2022-06-24T08:00:14.453971Z"
    }
   },
   "outputs": [],
   "source": [
    "y=df.iloc[:5000,-3:]\n",
    "x=df['file'][:5000]\n",
    "\n",
    "from sklearn.model_selection import train_test_split\n",
    "x1,x2,y1,y2=train_test_split(x, y, test_size=0.35, random_state=47, shuffle=True)\n",
    "# Here, 1 being the train data and 2 being the test data\n",
    "\n",
    "x1.shape, x2.shape, y1.shape, y2.shape"
   ]
  },
  {
   "cell_type": "code",
   "execution_count": null,
   "metadata": {},
   "outputs": [],
   "source": [
    "for i in y1.columns:\n",
    "    print(y1[i].value_counts())"
   ]
  },
  {
   "cell_type": "code",
   "execution_count": 22,
   "metadata": {
    "execution": {
     "iopub.execute_input": "2022-06-24T08:00:23.377253Z",
     "iopub.status.busy": "2022-06-24T08:00:23.376819Z",
     "iopub.status.idle": "2022-06-24T08:18:54.722986Z",
     "shell.execute_reply": "2022-06-24T08:18:54.721781Z",
     "shell.execute_reply.started": "2022-06-24T08:00:23.377221Z"
    }
   },
   "outputs": [],
   "source": [
    "datagen = ImageDataGenerator(rotation_range=35, zoom_range=0.2, horizontal_flip=True,\n",
    "                            brightness_range =(0.2,0.5),height_shift_range=0.2,\n",
    "                             width_shift_range=0.2,rescale=1/255.)\n",
    "\n",
    "folder_path = '../input/dataset/'\n",
    "label_df = y1.reset_index(drop=True)\n",
    "from tqdm import tqdm\n",
    "images = np.empty((0,80,80,3))\n",
    "labels = pd.DataFrame()\n",
    "for i in tqdm(range(len(x1))):\n",
    "    a=load_img(folder_path+x1.reset_index().file[i], target_size=(80,80))\n",
    "    a=img_to_array(a)\n",
    "    val = label_df['age_enc'][i] \n",
    "    flow = datagen.flow(a.reshape((1,80,80,3)), batch_size=1)\n",
    "    if val== 1 or val==6:\n",
    "        for j in range(2):\n",
    "            aug = flow.next()\n",
    "            images = np.append(images, aug, axis=0)\n",
    "            labels = pd.concat([labels, label_df.iloc[i:i+1,:]])\n",
    "            \n",
    "    if val==7:\n",
    "        for j in range(6):\n",
    "            aug = flow.next()\n",
    "            images = np.append(images, aug, axis=0)\n",
    "            labels = pd.concat([labels, label_df.iloc[i:i+1,:]])\n",
    "                       \n",
    "    if  val==0 or val==8:\n",
    "        for j in range(10):\n",
    "            aug = flow.next()\n",
    "            images = np.append(images, aug, axis=0)\n",
    "            labels = pd.concat([labels, label_df.iloc[i:i+1,:]])\n",
    "    else:\n",
    "        a=a/255.\n",
    "        images = np.append(images, a.reshape([1,80,80,3]), axis=0)\n",
    "        labels = pd.concat([labels, label_df.iloc[i:i+1,:]])\n"
   ]
  },
  {
   "cell_type": "code",
   "execution_count": 23,
   "metadata": {
    "execution": {
     "iopub.execute_input": "2022-06-24T08:18:54.725159Z",
     "iopub.status.busy": "2022-06-24T08:18:54.724707Z",
     "iopub.status.idle": "2022-06-24T08:18:55.026855Z",
     "shell.execute_reply": "2022-06-24T08:18:55.025704Z",
     "shell.execute_reply.started": "2022-06-24T08:18:54.725119Z"
    }
   },
   "outputs": [],
   "source": [
    "from sklearn.utils import shuffle\n",
    "images,labels = shuffle(images, np.array(labels), random_state=59)"
   ]
  },
  {
   "cell_type": "code",
   "execution_count": 67,
   "metadata": {
    "execution": {
     "iopub.execute_input": "2022-06-24T10:23:27.101026Z",
     "iopub.status.busy": "2022-06-24T10:23:27.100558Z",
     "iopub.status.idle": "2022-06-24T10:23:27.340145Z",
     "shell.execute_reply": "2022-06-24T10:23:27.339302Z",
     "shell.execute_reply.started": "2022-06-24T10:23:27.100990Z"
    }
   },
   "outputs": [],
   "source": [
    "ran = np.random.randint(0,len(images),1)\n",
    "print(ran)\n",
    "vals =labels[ran].flatten()\n",
    "\n",
    "plt.imshow(images[ran][0])\n",
    "if vals[0] ==1:\n",
    "    g='Male'\n",
    "else:g='Female'\n",
    "plt.title(g + pair_race[vals[1]] + pair_age[vals[2]])"
   ]
  },
  {
   "cell_type": "code",
   "execution_count": 24,
   "metadata": {
    "execution": {
     "iopub.execute_input": "2022-06-24T08:18:55.028319Z",
     "iopub.status.busy": "2022-06-24T08:18:55.027992Z",
     "iopub.status.idle": "2022-06-24T08:19:13.772856Z",
     "shell.execute_reply": "2022-06-24T08:19:13.771556Z",
     "shell.execute_reply.started": "2022-06-24T08:18:55.028291Z"
    }
   },
   "outputs": [],
   "source": [
    "test_images=[]\n",
    "for file in tqdm(x2):\n",
    "    img = load_img(folder_path + file, target_size=(80,80))\n",
    "    img = img_to_array(img)/255.\n",
    "    test_images.append(img)\n",
    "\n",
    "test_images = np.array(test_images)"
   ]
  },
  {
   "cell_type": "code",
   "execution_count": 25,
   "metadata": {
    "execution": {
     "iopub.execute_input": "2022-06-24T08:19:13.775341Z",
     "iopub.status.busy": "2022-06-24T08:19:13.774958Z",
     "iopub.status.idle": "2022-06-24T08:19:21.296688Z",
     "shell.execute_reply": "2022-06-24T08:19:21.295447Z",
     "shell.execute_reply.started": "2022-06-24T08:19:13.775310Z"
    }
   },
   "outputs": [],
   "source": [
    "from tensorflow.keras.applications import InceptionResNetV2\n",
    "conv_base4 = InceptionResNetV2(include_top=False,weights=\"imagenet\",\n",
    "                               input_shape=(80,80,3))"
   ]
  },
  {
   "cell_type": "code",
   "execution_count": 26,
   "metadata": {
    "execution": {
     "iopub.execute_input": "2022-06-24T08:19:21.298239Z",
     "iopub.status.busy": "2022-06-24T08:19:21.297866Z",
     "iopub.status.idle": "2022-06-24T08:19:22.991476Z",
     "shell.execute_reply": "2022-06-24T08:19:22.990610Z",
     "shell.execute_reply.started": "2022-06-24T08:19:21.298207Z"
    }
   },
   "outputs": [],
   "source": [
    "model1 = Sequential()\n",
    "model1.add(conv_base4)\n",
    "conv_base4.trainable=False\n",
    "model1.summary()"
   ]
  },
  {
   "cell_type": "code",
   "execution_count": 27,
   "metadata": {
    "execution": {
     "iopub.execute_input": "2022-06-24T08:19:22.993344Z",
     "iopub.status.busy": "2022-06-24T08:19:22.992530Z",
     "iopub.status.idle": "2022-06-24T08:37:01.477776Z",
     "shell.execute_reply": "2022-06-24T08:37:01.476482Z",
     "shell.execute_reply.started": "2022-06-24T08:19:22.993299Z"
    }
   },
   "outputs": [],
   "source": [
    "trx=[]\n",
    "for i in tqdm(range(len(images))):\n",
    "    a=model1.predict(images[i].reshape([1,80,80,3])).flatten()\n",
    "    trx.append(a)\n",
    "trx=np.array(trx)"
   ]
  },
  {
   "cell_type": "code",
   "execution_count": 28,
   "metadata": {
    "execution": {
     "iopub.execute_input": "2022-06-24T08:37:01.481688Z",
     "iopub.status.busy": "2022-06-24T08:37:01.481205Z",
     "iopub.status.idle": "2022-06-24T08:42:13.597813Z",
     "shell.execute_reply": "2022-06-24T08:42:13.597076Z",
     "shell.execute_reply.started": "2022-06-24T08:37:01.481591Z"
    }
   },
   "outputs": [],
   "source": [
    "tex=np.empty([0,1536])\n",
    "for i in tqdm(range(len(test_images))):\n",
    "    b=model1.predict(test_images[i].reshape([1,80,80,3])).reshape([1,1536])\n",
    "    tex=np.append(tex,b,axis=0)"
   ]
  },
  {
   "cell_type": "code",
   "execution_count": 29,
   "metadata": {
    "execution": {
     "iopub.execute_input": "2022-06-24T08:42:13.599621Z",
     "iopub.status.busy": "2022-06-24T08:42:13.598873Z",
     "iopub.status.idle": "2022-06-24T08:42:13.605906Z",
     "shell.execute_reply": "2022-06-24T08:42:13.604675Z",
     "shell.execute_reply.started": "2022-06-24T08:42:13.599585Z"
    }
   },
   "outputs": [],
   "source": [
    "from catboost import CatBoostClassifier\n",
    "from sklearn.multioutput import MultiOutputClassifier"
   ]
  },
  {
   "cell_type": "code",
   "execution_count": 31,
   "metadata": {
    "execution": {
     "iopub.execute_input": "2022-06-24T08:42:13.630670Z",
     "iopub.status.busy": "2022-06-24T08:42:13.629145Z",
     "iopub.status.idle": "2022-06-24T09:30:30.504355Z",
     "shell.execute_reply": "2022-06-24T09:30:30.503066Z",
     "shell.execute_reply.started": "2022-06-24T08:42:13.630442Z"
    }
   },
   "outputs": [],
   "source": [
    "clf = MultiOutputClassifier(CatBoostClassifier(iterations=1000))\n",
    "clf.fit(trx, labels)"
   ]
  },
  {
   "cell_type": "code",
   "execution_count": 60,
   "metadata": {
    "execution": {
     "iopub.execute_input": "2022-06-24T10:17:34.650308Z",
     "iopub.status.busy": "2022-06-24T10:17:34.649858Z",
     "iopub.status.idle": "2022-06-24T10:17:54.843487Z",
     "shell.execute_reply": "2022-06-24T10:17:54.842278Z",
     "shell.execute_reply.started": "2022-06-24T10:17:34.650273Z"
    }
   },
   "outputs": [],
   "source": [
    "pred=[]\n",
    "for i in tex:\n",
    "    p = clf.predict(i)\n",
    "    pred.append(p)"
   ]
  },
  {
   "cell_type": "code",
   "execution_count": 61,
   "metadata": {
    "execution": {
     "iopub.execute_input": "2022-06-24T10:17:54.846004Z",
     "iopub.status.busy": "2022-06-24T10:17:54.845617Z",
     "iopub.status.idle": "2022-06-24T10:17:55.005066Z",
     "shell.execute_reply": "2022-06-24T10:17:55.003677Z",
     "shell.execute_reply.started": "2022-06-24T10:17:54.845969Z"
    }
   },
   "outputs": [],
   "source": [
    "r1=[]\n",
    "for i in tqdm(range(len(tex))):\n",
    "    if pred[i][0] == np.array(y2)[:,0][i]:\n",
    "        r1.append(1)\n",
    "    else: r1.append(0)\n",
    "        \n",
    "r2=[]\n",
    "for i in tqdm(range(len(tex))):\n",
    "    if pred[i][1] == np.array(y2)[:,1][i]:\n",
    "        r2.append(1)\n",
    "    else: r2.append(0)\n",
    "        \n",
    "r3=[]\n",
    "for i in tqdm(range(len(tex))):\n",
    "    if a[i][2] == np.array(y2)[:,2][i]:\n",
    "        r3.append(1)\n",
    "    else: r3.append(0)\n",
    "        \n",
    "r3.count(1)/len(r1)"
   ]
  },
  {
   "cell_type": "code",
   "execution_count": 65,
   "metadata": {
    "execution": {
     "iopub.execute_input": "2022-06-24T10:19:28.430937Z",
     "iopub.status.busy": "2022-06-24T10:19:28.430448Z",
     "iopub.status.idle": "2022-06-24T10:19:28.438216Z",
     "shell.execute_reply": "2022-06-24T10:19:28.436714Z",
     "shell.execute_reply.started": "2022-06-24T10:19:28.430901Z"
    }
   },
   "outputs": [],
   "source": [
    "print('Test Accuracy of gender :' ,r1.count(1)/len(r1))\n",
    "print('Test Accuracy race:' ,r2.count(1)/len(r1))\n",
    "print('Test Accuracy age:' ,r3.count(1)/len(r1))"
   ]
  },
  {
   "cell_type": "code",
   "execution_count": 38,
   "metadata": {
    "execution": {
     "iopub.execute_input": "2022-06-24T09:43:06.671648Z",
     "iopub.status.busy": "2022-06-24T09:43:06.671219Z",
     "iopub.status.idle": "2022-06-24T09:43:06.725122Z",
     "shell.execute_reply": "2022-06-24T09:43:06.724042Z",
     "shell.execute_reply.started": "2022-06-24T09:43:06.671616Z"
    }
   },
   "outputs": [],
   "source": [
    "import pickle\n",
    "file = open('fairfc.pkl', 'wb')\n",
    "pickle.dump(clf,file)"
   ]
  }
 ],
 "metadata": {
  "kernelspec": {
   "display_name": "Python 3 (ipykernel)",
   "language": "python",
   "name": "python3"
  },
  "language_info": {
   "codemirror_mode": {
    "name": "ipython",
    "version": 3
   },
   "file_extension": ".py",
   "mimetype": "text/x-python",
   "name": "python",
   "nbconvert_exporter": "python",
   "pygments_lexer": "ipython3",
   "version": "3.8.8"
  }
 },
 "nbformat": 4,
 "nbformat_minor": 4
}

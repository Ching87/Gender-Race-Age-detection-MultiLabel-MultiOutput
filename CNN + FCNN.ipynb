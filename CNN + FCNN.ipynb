{
 "cells": [
  {
   "cell_type": "code",
   "execution_count": 18,
   "metadata": {
    "execution": {
     "iopub.execute_input": "2022-06-24T07:59:50.478275Z",
     "iopub.status.busy": "2022-06-24T07:59:50.477797Z",
     "iopub.status.idle": "2022-06-24T07:59:50.488769Z",
     "shell.execute_reply": "2022-06-24T07:59:50.487774Z",
     "shell.execute_reply.started": "2022-06-24T07:59:50.478237Z"
    }
   },
   "outputs": [],
   "source": [
    "import numpy as np\n",
    "import pandas as pd\n",
    "import matplotlib.pyplot as plt\n",
    "from sklearn.preprocessing import LabelEncoder\n",
    "from tensorflow.keras.preprocessing.image import ImageDataGenerator\n",
    "import tensorflow as tf\n",
    "from tensorflow import keras\n",
    "from tensorflow.keras.preprocessing.image import ImageDataGenerator, img_to_array, load_img\n",
    "from tensorflow.keras.models import Sequential\n",
    "from tensorflow.keras.layers import Dense,Conv2D,MaxPooling2D,BatchNormalization,Dropout,Flatten,Input\n",
    "from tensorflow.keras import optimizers\n",
    "from keras import Model\n",
    "from tensorflow.keras import initializers\n",
    "import warnings\n",
    "warnings.filterwarnings('ignore')\n",
    "from sklearn.metrics import accuracy_score, precision_score, recall_score, f1_score\n",
    "from sklearn.metrics import multilabel_confusion_matrix\n",
    "from tensorflow.keras.backend import clear_session"
   ]
  },
  {
   "cell_type": "code",
   "execution_count": 19,
   "metadata": {
    "execution": {
     "iopub.execute_input": "2022-06-24T07:59:53.506982Z",
     "iopub.status.busy": "2022-06-24T07:59:53.506012Z",
     "iopub.status.idle": "2022-06-24T07:59:53.666871Z",
     "shell.execute_reply": "2022-06-24T07:59:53.665876Z",
     "shell.execute_reply.started": "2022-06-24T07:59:53.506931Z"
    }
   },
   "outputs": [],
   "source": [
    "df = pd.read_csv('../input/dataset/train.csv')\n",
    "df"
   ]
  },
  {
   "cell_type": "code",
   "execution_count": null,
   "metadata": {},
   "outputs": [],
   "source": [
    "for i in df.columns[1:]:\n",
    "    print(df[i].value_counts())"
   ]
  },
  {
   "cell_type": "code",
   "execution_count": 20,
   "metadata": {
    "execution": {
     "iopub.execute_input": "2022-06-24T07:59:57.291580Z",
     "iopub.status.busy": "2022-06-24T07:59:57.291148Z",
     "iopub.status.idle": "2022-06-24T07:59:57.408353Z",
     "shell.execute_reply": "2022-06-24T07:59:57.407115Z",
     "shell.execute_reply.started": "2022-06-24T07:59:57.291537Z"
    }
   },
   "outputs": [],
   "source": [
    "le_age = LabelEncoder()\n",
    "le_race = LabelEncoder()\n",
    "ages = le_age.fit_transform(df['age'])\n",
    "races= le_race.fit_transform(df['race'])\n",
    "df=pd.get_dummies(df, columns=['gender'], drop_first=True)\n",
    "\n",
    "pair_age={idx:age for idx, age in enumerate(le_age.classes_)}\n",
    "pair_race={idx:race for idx, race in enumerate(le_race.classes_)}\n",
    "df['race_enc'] = races\n",
    "df['age_enc'] = ages\n",
    "\n",
    "df=df.sample(frac=1).reset_index()\n",
    "pair_age, pair_race"
   ]
  },
  {
   "cell_type": "code",
   "execution_count": 21,
   "metadata": {
    "execution": {
     "iopub.execute_input": "2022-06-24T08:00:14.454053Z",
     "iopub.status.busy": "2022-06-24T08:00:14.452394Z",
     "iopub.status.idle": "2022-06-24T08:00:14.479596Z",
     "shell.execute_reply": "2022-06-24T08:00:14.478711Z",
     "shell.execute_reply.started": "2022-06-24T08:00:14.453971Z"
    }
   },
   "outputs": [],
   "source": [
    "y=df.iloc[:5000,-3:]\n",
    "x=df['file'][:5000]\n",
    "\n",
    "from sklearn.model_selection import train_test_split\n",
    "x1,x2,y1,y2=train_test_split(x, y, test_size=0.35, random_state=47, shuffle=True)\n",
    "# Here, 1 being the train data and 2 being the test data\n",
    "\n",
    "x1.shape, x2.shape, y1.shape, y2.shape"
   ]
  },
  {
   "cell_type": "code",
   "execution_count": null,
   "metadata": {},
   "outputs": [],
   "source": [
    "for i in y1.columns:\n",
    "    print(y1[i].value_counts())"
   ]
  },
  {
   "cell_type": "code",
   "execution_count": 22,
   "metadata": {
    "execution": {
     "iopub.execute_input": "2022-06-24T08:00:23.377253Z",
     "iopub.status.busy": "2022-06-24T08:00:23.376819Z",
     "iopub.status.idle": "2022-06-24T08:18:54.722986Z",
     "shell.execute_reply": "2022-06-24T08:18:54.721781Z",
     "shell.execute_reply.started": "2022-06-24T08:00:23.377221Z"
    }
   },
   "outputs": [],
   "source": [
    "datagen = ImageDataGenerator(rotation_range=35, zoom_range=0.2, horizontal_flip=True,\n",
    "                            brightness_range =(0.2,0.5),height_shift_range=0.2,\n",
    "                             width_shift_range=0.2,rescale=1/255.)\n",
    "\n",
    "folder_path = '../input/dataset/'\n",
    "label_df = y1.reset_index(drop=True)\n",
    "from tqdm import tqdm\n",
    "images = np.empty((0,80,80,3))\n",
    "labels = pd.DataFrame()\n",
    "for i in tqdm(range(len(x1))):\n",
    "    a=load_img(folder_path+x1.reset_index().file[i], target_size=(80,80))\n",
    "    a=img_to_array(a)\n",
    "    val = label_df['age_enc'][i] \n",
    "    flow = datagen.flow(a.reshape((1,80,80,3)), batch_size=1)\n",
    "    if val== 1 or val==6:\n",
    "        for j in range(2):\n",
    "            aug = flow.next()\n",
    "            images = np.append(images, aug, axis=0)\n",
    "            labels = pd.concat([labels, label_df.iloc[i:i+1,:]])\n",
    "            \n",
    "    if val==7:\n",
    "        for j in range(6):\n",
    "            aug = flow.next()\n",
    "            images = np.append(images, aug, axis=0)\n",
    "            labels = pd.concat([labels, label_df.iloc[i:i+1,:]])\n",
    "                       \n",
    "    if  val==0 or val==8:\n",
    "        for j in range(10):\n",
    "            aug = flow.next()\n",
    "            images = np.append(images, aug, axis=0)\n",
    "            labels = pd.concat([labels, label_df.iloc[i:i+1,:]])\n",
    "    else:\n",
    "        a=a/255.\n",
    "        images = np.append(images, a.reshape([1,80,80,3]), axis=0)\n",
    "        labels = pd.concat([labels, label_df.iloc[i:i+1,:]])\n"
   ]
  },
  {
   "cell_type": "code",
   "execution_count": 23,
   "metadata": {
    "execution": {
     "iopub.execute_input": "2022-06-24T08:18:54.725159Z",
     "iopub.status.busy": "2022-06-24T08:18:54.724707Z",
     "iopub.status.idle": "2022-06-24T08:18:55.026855Z",
     "shell.execute_reply": "2022-06-24T08:18:55.025704Z",
     "shell.execute_reply.started": "2022-06-24T08:18:54.725119Z"
    }
   },
   "outputs": [],
   "source": [
    "from sklearn.utils import shuffle\n",
    "images,labels = shuffle(images, np.array(labels), random_state=59)"
   ]
  },
  {
   "cell_type": "code",
   "execution_count": 67,
   "metadata": {
    "execution": {
     "iopub.execute_input": "2022-06-24T10:23:27.101026Z",
     "iopub.status.busy": "2022-06-24T10:23:27.100558Z",
     "iopub.status.idle": "2022-06-24T10:23:27.340145Z",
     "shell.execute_reply": "2022-06-24T10:23:27.339302Z",
     "shell.execute_reply.started": "2022-06-24T10:23:27.100990Z"
    }
   },
   "outputs": [],
   "source": [
    "ran = np.random.randint(0,len(images),1)\n",
    "print(ran)\n",
    "vals =labels[ran].flatten()\n",
    "\n",
    "plt.imshow(images[ran][0])\n",
    "if vals[0] ==1:\n",
    "    g='Male'\n",
    "else:g='Female'\n",
    "plt.title(g + pair_race[vals[1]] + pair_age[vals[2]])"
   ]
  },
  {
   "cell_type": "code",
   "execution_count": 24,
   "metadata": {
    "execution": {
     "iopub.execute_input": "2022-06-24T08:18:55.028319Z",
     "iopub.status.busy": "2022-06-24T08:18:55.027992Z",
     "iopub.status.idle": "2022-06-24T08:19:13.772856Z",
     "shell.execute_reply": "2022-06-24T08:19:13.771556Z",
     "shell.execute_reply.started": "2022-06-24T08:18:55.028291Z"
    }
   },
   "outputs": [],
   "source": [
    "test_images=[]\n",
    "for file in tqdm(x2):\n",
    "    img = load_img(folder_path + file, target_size=(80,80))\n",
    "    img = img_to_array(img)/255.\n",
    "    test_images.append(img)\n",
    "\n",
    "test_images = np.array(test_images)"
   ]
  },
  {
   "cell_type": "code",
   "execution_count": 25,
   "metadata": {
    "execution": {
     "iopub.execute_input": "2022-06-24T08:19:13.775341Z",
     "iopub.status.busy": "2022-06-24T08:19:13.774958Z",
     "iopub.status.idle": "2022-06-24T08:19:21.296688Z",
     "shell.execute_reply": "2022-06-24T08:19:21.295447Z",
     "shell.execute_reply.started": "2022-06-24T08:19:13.775310Z"
    }
   },
   "outputs": [],
   "source": [
    "from tensorflow.keras.applications import InceptionResNetV2\n",
    "conv_base4 = InceptionResNetV2(include_top=False,weights=\"imagenet\",\n",
    "                               input_shape=(80,80,3))"
   ]
  },
  {
   "cell_type": "code",
   "execution_count": null,
   "metadata": {},
   "outputs": [],
   "source": [
    "import tensorflow as tf\n",
    "tf.random.set_seed(23)"
   ]
  },
  {
   "cell_type": "code",
   "execution_count": null,
   "metadata": {},
   "outputs": [],
   "source": [
    "!pip install focal_loss"
   ]
  },
  {
   "cell_type": "code",
   "execution_count": 41,
   "metadata": {
    "execution": {
     "iopub.execute_input": "2022-06-24T09:45:56.259952Z",
     "iopub.status.busy": "2022-06-24T09:45:56.259535Z",
     "iopub.status.idle": "2022-06-24T09:45:56.276923Z",
     "shell.execute_reply": "2022-06-24T09:45:56.276077Z",
     "shell.execute_reply.started": "2022-06-24T09:45:56.259912Z"
    }
   },
   "outputs": [],
   "source": [
    "from focal_loss import SparseCategoricalFocalLoss"
   ]
  },
  {
   "cell_type": "code",
   "execution_count": 68,
   "metadata": {
    "execution": {
     "iopub.execute_input": "2022-06-24T10:24:47.752864Z",
     "iopub.status.busy": "2022-06-24T10:24:47.751189Z",
     "iopub.status.idle": "2022-06-24T10:24:50.345304Z",
     "shell.execute_reply": "2022-06-24T10:24:50.343901Z",
     "shell.execute_reply.started": "2022-06-24T10:24:47.752780Z"
    }
   },
   "outputs": [],
   "source": [
    "input_layer = Input(shape=(80,80,3))\n",
    "first_dense=conv_base4(input_layer)\n",
    "first_dense=Flatten()(first_dense)\n",
    "first_dense=Dropout(0.35)(first_dense)\n",
    "#first_dense=(0.5)(first_dense)\n",
    "first_dense = Dense(500, activation='relu')(first_dense)\n",
    "first_dense = BatchNormalization()(first_dense)\n",
    "\n",
    "f1=Dense(200, activation='relu')(first_dense)\n",
    "f1=Dropout(0.35)(f1)\n",
    "f1=BatchNormalization()(f1)\n",
    "f2=Dense(200, activation='relu')(f1)\n",
    "f1=Dropout(0.35)(f2)\n",
    "f1=BatchNormalization()(f2)\n",
    "y1_output = Dense(1, activation='sigmoid', name='gender')(f2)\n",
    "\n",
    "second_dense = Dense(500,activation='relu')(first_dense)\n",
    "second_dense = Dropout(0.35)(second_dense)\n",
    "second_dense = BatchNormalization()(second_dense)\n",
    "second_dense = Dense(300,activation='relu')(second_dense)\n",
    "second_dense = Dropout(0.35)(second_dense)\n",
    "y2_output = Dense(7, activation='softmax', name='race')(second_dense)\n",
    "\n",
    "third_dense = Dense(500, activation='relu')(first_dense)\n",
    "third_dense = Dropout(0.35)(third_dense)\n",
    "third_dense = BatchNormalization()(third_dense)\n",
    "third_dense = Dense(300, activation='relu')(third_dense)\n",
    "third_dense = Dropout(0.35)(third_dense)\n",
    "third_dense = BatchNormalization()(third_dense)\n",
    "y3_output = Dense(9, activation='softmax', name='age')(third_dense)\n",
    "\n",
    "model = Model(inputs=input_layer,outputs=[y1_output, y2_output, y3_output])\n",
    "conv_base4.trainable = False\n",
    "\n",
    "optimizer =optimizers.Adam(lr=0.00013)\n",
    "model.compile(optimizer=optimizer,\n",
    "            loss={'gender':'binary_crossentropy',\n",
    "                  'race':SparseCategoricalFocalLoss(gamma=2.5),\n",
    "                  'age': SparseCategoricalFocalLoss(gamma=2.5)},metrics=['accuracy'])\n",
    "model.summary()"
   ]
  },
  {
   "cell_type": "code",
   "execution_count": 69,
   "metadata": {
    "execution": {
     "iopub.execute_input": "2022-06-24T10:24:58.836028Z",
     "iopub.status.busy": "2022-06-24T10:24:58.835537Z",
     "iopub.status.idle": "2022-06-24T10:24:58.843787Z",
     "shell.execute_reply": "2022-06-24T10:24:58.842615Z",
     "shell.execute_reply.started": "2022-06-24T10:24:58.835990Z"
    }
   },
   "outputs": [],
   "source": [
    "g1=labels[:,0]\n",
    "r1=labels[:,1]\n",
    "a1=labels[:,2]\n",
    "w1=g1,r1,a1\n",
    "\n",
    "g2=np.array(y2['gender_Male'])\n",
    "r2=np.array(y2['race_enc'])\n",
    "a2=np.array(y2['age_enc'])\n",
    "w2 = g2, r2, a2"
   ]
  },
  {
   "cell_type": "code",
   "execution_count": 70,
   "metadata": {
    "execution": {
     "iopub.execute_input": "2022-06-24T10:25:04.013011Z",
     "iopub.status.busy": "2022-06-24T10:25:04.012311Z",
     "iopub.status.idle": "2022-06-24T11:20:47.883473Z",
     "shell.execute_reply": "2022-06-24T11:20:47.882607Z",
     "shell.execute_reply.started": "2022-06-24T10:25:04.012976Z"
    }
   },
   "outputs": [],
   "source": [
    "his = model.fit(x=images,y=w1,epochs=30, batch_size=28,\n",
    "         validation_data=(test_images,w2))"
   ]
  },
  {
   "cell_type": "code",
   "execution_count": 72,
   "metadata": {
    "execution": {
     "iopub.execute_input": "2022-06-24T11:40:46.284033Z",
     "iopub.status.busy": "2022-06-24T11:40:46.282668Z",
     "iopub.status.idle": "2022-06-24T11:40:47.225250Z",
     "shell.execute_reply": "2022-06-24T11:40:47.224254Z",
     "shell.execute_reply.started": "2022-06-24T11:40:46.283969Z"
    }
   },
   "outputs": [],
   "source": [
    "model.save_weights('face1.h5')"
   ]
  },
  {
   "cell_type": "code",
   "execution_count": 71,
   "metadata": {
    "execution": {
     "iopub.execute_input": "2022-06-24T11:39:33.482177Z",
     "iopub.status.busy": "2022-06-24T11:39:33.481402Z",
     "iopub.status.idle": "2022-06-24T11:39:35.210924Z",
     "shell.execute_reply": "2022-06-24T11:39:35.209820Z",
     "shell.execute_reply.started": "2022-06-24T11:39:33.482126Z"
    }
   },
   "outputs": [],
   "source": [
    "model.save('face.h5')"
   ]
  },
  {
   "cell_type": "code",
   "execution_count": 45,
   "metadata": {
    "execution": {
     "iopub.execute_input": "2022-06-24T10:02:44.517501Z",
     "iopub.status.busy": "2022-06-24T10:02:44.516363Z",
     "iopub.status.idle": "2022-06-24T10:02:44.702112Z",
     "shell.execute_reply": "2022-06-24T10:02:44.700906Z",
     "shell.execute_reply.started": "2022-06-24T10:02:44.517455Z"
    }
   },
   "outputs": [],
   "source": [
    "from tensorflow.keras.backend import clear_session\n",
    "del model\n",
    "clear_session()"
   ]
  }
 ],
 "metadata": {
  "kernelspec": {
   "display_name": "Python 3 (ipykernel)",
   "language": "python",
   "name": "python3"
  },
  "language_info": {
   "codemirror_mode": {
    "name": "ipython",
    "version": 3
   },
   "file_extension": ".py",
   "mimetype": "text/x-python",
   "name": "python",
   "nbconvert_exporter": "python",
   "pygments_lexer": "ipython3",
   "version": "3.8.8"
  }
 },
 "nbformat": 4,
 "nbformat_minor": 4
}
